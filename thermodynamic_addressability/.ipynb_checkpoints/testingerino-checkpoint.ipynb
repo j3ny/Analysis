{
 "cells": [
  {
   "cell_type": "code",
   "execution_count": 4,
   "metadata": {
    "collapsed": false
   },
   "outputs": [],
   "source": [
    "lines1 = []\n",
    "with open('1', 'r') as file1:\n",
    "    for line in file1:\n",
    "        lines1.append(line.strip())\n",
    "\n",
    "lines2 = []\n",
    "with open('2', 'r') as file2:\n",
    "    for line in file2:\n",
    "        lines2.append(line.strip())     "
   ]
  }
 ],
 "metadata": {
  "kernelspec": {
   "display_name": "Python 2",
   "language": "python",
   "name": "python2"
  },
  "language_info": {
   "codemirror_mode": {
    "name": "ipython",
    "version": 2
   },
   "file_extension": ".py",
   "mimetype": "text/x-python",
   "name": "python",
   "nbconvert_exporter": "python",
   "pygments_lexer": "ipython2",
   "version": "2.7.5+"
  }
 },
 "nbformat": 4,
 "nbformat_minor": 0
}
