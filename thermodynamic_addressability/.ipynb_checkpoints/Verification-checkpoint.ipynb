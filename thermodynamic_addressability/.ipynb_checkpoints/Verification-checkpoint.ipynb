{
 "cells": [
  {
   "cell_type": "code",
   "execution_count": 32,
   "metadata": {
    "collapsed": false
   },
   "outputs": [
    {
     "name": "stdout",
     "output_type": "stream",
     "text": [
      "629\n"
     ]
    }
   ],
   "source": [
    "# Approximation data (based on Levenshtein distance)\n",
    "path = 'data/verification/'\n",
    "\n",
    "#DB_medium = pandas.read_csv(path + 'DBS_medium_raw2.csv')\n",
    "#M13_medium = pandas.read_csv(path + 'M13_medium_raw2.csv')\n",
    "\n",
    "def read_data(filename):\n",
    "    data = []\n",
    "    with open(filename, 'r') as f:\n",
    "        sequence = f.readline().strip()\n",
    "        energies = []\n",
    "        for line in f.readlines():\n",
    "            if line.startswith('0.0'):\n",
    "                pass\n",
    "            elif '&' in line:\n",
    "                energy, _, _ = line.strip().split(',')\n",
    "                energies.append(float(energy))\n",
    "            else:\n",
    "                data.append((sequence, energies))\n",
    "                sequence = line.strip()\n",
    "                energies = []\n",
    "        data.append((sequence, energies))\n",
    "    return data\n",
    "                \n",
    "data = read_data(path + 'DBS_medium_raw2.csv')\n",
    "print len(data)"
   ]
  },
  {
   "cell_type": "code",
   "execution_count": 36,
   "metadata": {
    "collapsed": false
   },
   "outputs": [],
   "source": [
    "import bigfloat\n",
    "\n",
    "def get_boltzmann_distribution(energies):\n",
    "    R = 8.3144621  # gas constant\n",
    "    T = 293.15  # room temperature\n",
    "    factor = 4184.0  # joules_per_kcal\n",
    "    ps = []\n",
    "    total = bigfloat.BigFloat(0)\n",
    "    for energy in energies:\n",
    "        p = bigfloat.exp((-energy*factor)/(R*T), bigfloat.precision(1000))\n",
    "        ps.append(p)\n",
    "        total = bigfloat.add(total, p)\n",
    "    normal_ps = []\n",
    "    for p in ps:\n",
    "        normal_ps.append(float(bigfloat.div(p,total)))\n",
    "    return normal_ps\n",
    "\n",
    "with open('DBS_verification.csv', 'w') as out:\n",
    "    for d in data:\n",
    "        out.write(str(d[0]) + ',' + str(get_boltzmann_distribution(d[1])[0]) + '\\n')"
   ]
  }
 ],
 "metadata": {
  "kernelspec": {
   "display_name": "Python 2",
   "language": "python",
   "name": "python2"
  },
  "language_info": {
   "codemirror_mode": {
    "name": "ipython",
    "version": 2
   },
   "file_extension": ".py",
   "mimetype": "text/x-python",
   "name": "python",
   "nbconvert_exporter": "python",
   "pygments_lexer": "ipython2",
   "version": "2.7.5+"
  }
 },
 "nbformat": 4,
 "nbformat_minor": 0
}
