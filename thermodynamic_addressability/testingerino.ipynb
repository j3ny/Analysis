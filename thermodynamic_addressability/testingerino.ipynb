{
 "cells": [
  {
   "cell_type": "code",
   "execution_count": 5,
   "metadata": {
    "collapsed": false
   },
   "outputs": [
    {
     "name": "stdout",
     "output_type": "stream",
     "text": [
      "AAAGCAAAAAGGGTAT\n",
      "AAAGTACTTACCACGT\n",
      "AAATCAAACGAGGCAC\n",
      "AACTGTCG\n",
      "AATCACAACGTGAATT\n",
      "AATTAGGA\n",
      "ACAACGGG\n",
      "ACATGCTCTACTCCGT\n",
      "ACCGACTT\n",
      "ACCGGTCACGAATCCC\n",
      "AGAACGGCGGGGTATA\n",
      "AGATCTGGATAAGCCT\n",
      "ATACGACATATCACAC\n",
      "CAAAACTG\n",
      "CACCACGG\n",
      "CATCCAGC\n",
      "CCGGTTAC\n",
      "CCGTCTTT\n",
      "CGGTAAGG\n",
      "CGTCCTGG\n",
      "CGTGCGAAATTGTTCG\n",
      "CTAGTAAT\n",
      "CTGATATTGAGCCGAG\n",
      "CTGCACCG\n",
      "CTGTGTCC\n",
      "GAACACTC\n",
      "GAATCATGACCGGCCA\n",
      "GATAGGCT\n",
      "GCGCAGAC\n",
      "GGCGCTGAGCTATTCC\n",
      "GGGCTTGTGCTACAGG\n",
      "GGTCAGTGGTCCAACA\n",
      "GTGGGCGC\n",
      "GTGTACGC\n",
      "TAGTACAAAATACTAG\n",
      "TATGTATCGTGCTATT\n",
      "TATGTGATACTGGGGC\n",
      "TCCTAGAAGAGTTGATATCGGAGC\n",
      "TCGTATCCATGATGGG\n",
      "TGATTGTA\n",
      "TGCAGAAT\n",
      "TGTAAGCG\n",
      "TGTGGGGG\n",
      "TGTTACAACAGTCCGG\n",
      "TTGTGCCGATAGGTGA\n"
     ]
    }
   ],
   "source": [
    "lines1 = []\n",
    "with open('1', 'r') as file1:\n",
    "    for line in file1:\n",
    "        lines1.append(line.strip())\n",
    "\n",
    "lines2 = []\n",
    "with open('2', 'r') as file2:\n",
    "    for line in file2:\n",
    "        lines2.append(line.strip())\n",
    "        \n",
    "for line in lines2:\n",
    "    if line not in lines1:\n",
    "        print line"
   ]
  }
 ],
 "metadata": {
  "kernelspec": {
   "display_name": "Python 2",
   "language": "python",
   "name": "python2"
  },
  "language_info": {
   "codemirror_mode": {
    "name": "ipython",
    "version": 2
   },
   "file_extension": ".py",
   "mimetype": "text/x-python",
   "name": "python",
   "nbconvert_exporter": "python",
   "pygments_lexer": "ipython2",
   "version": "2.7.5+"
  }
 },
 "nbformat": 4,
 "nbformat_minor": 0
}
