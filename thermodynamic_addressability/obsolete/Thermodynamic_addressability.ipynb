{
 "cells": [
  {
   "cell_type": "code",
   "execution_count": 4,
   "metadata": {
    "collapsed": false
   },
   "outputs": [
    {
     "ename": "ImportError",
     "evalue": "No module named seaborn",
     "output_type": "error",
     "traceback": [
      "\u001b[1;31m---------------------------------------------------------------------------\u001b[0m",
      "\u001b[1;31mImportError\u001b[0m                               Traceback (most recent call last)",
      "\u001b[1;32m<ipython-input-4-d85eab55a81b>\u001b[0m in \u001b[0;36m<module>\u001b[1;34m()\u001b[0m\n\u001b[0;32m      4\u001b[0m \u001b[1;32mimport\u001b[0m \u001b[0mnumpy\u001b[0m\u001b[1;33m\u001b[0m\u001b[0m\n\u001b[0;32m      5\u001b[0m \u001b[1;32mimport\u001b[0m \u001b[0mpandas\u001b[0m \u001b[1;32mas\u001b[0m \u001b[0mpd\u001b[0m\u001b[1;33m\u001b[0m\u001b[0m\n\u001b[1;32m----> 6\u001b[1;33m \u001b[1;32mimport\u001b[0m \u001b[0mseaborn\u001b[0m \u001b[1;32mas\u001b[0m \u001b[0msns\u001b[0m\u001b[1;33m\u001b[0m\u001b[0m\n\u001b[0m\u001b[0;32m      7\u001b[0m \u001b[1;32mimport\u001b[0m \u001b[0mmatplotlib\u001b[0m\u001b[1;33m.\u001b[0m\u001b[0mmlab\u001b[0m \u001b[1;32mas\u001b[0m \u001b[0mmlab\u001b[0m\u001b[1;33m\u001b[0m\u001b[0m\n\u001b[0;32m      8\u001b[0m \u001b[1;32mimport\u001b[0m \u001b[0mmatplotlib\u001b[0m\u001b[1;33m.\u001b[0m\u001b[0mpyplot\u001b[0m \u001b[1;32mas\u001b[0m \u001b[0mplt\u001b[0m\u001b[1;33m\u001b[0m\u001b[0m\n",
      "\u001b[1;31mImportError\u001b[0m: No module named seaborn"
     ]
    }
   ],
   "source": [
    "import json\n",
    "import math\n",
    "#import bigfloat\n",
    "import numpy\n",
    "import pandas as pd\n",
    "import seaborn as sns\n",
    "import matplotlib.mlab as mlab\n",
    "import matplotlib.pyplot as plt\n",
    "\n",
    "#import matplotlib\n",
    "#from numpy.random import randn\n",
    "#import matplotlib.pyplot as plt\n",
    "from matplotlib.ticker import FuncFormatter\n",
    "\n",
    "%matplotlib inline"
   ]
  },
  {
   "cell_type": "code",
   "execution_count": 3,
   "metadata": {
    "collapsed": false
   },
   "outputs": [
    {
     "name": "stdout",
     "output_type": "stream",
     "text": [
      "['', '/home/j3ny/anaconda/lib/python27.zip', '/home/j3ny/anaconda/lib/python2.7', '/home/j3ny/anaconda/lib/python2.7/plat-linux2', '/home/j3ny/anaconda/lib/python2.7/lib-tk', '/home/j3ny/anaconda/lib/python2.7/lib-old', '/home/j3ny/anaconda/lib/python2.7/lib-dynload', '/home/j3ny/anaconda/lib/python2.7/site-packages', '/home/j3ny/anaconda/lib/python2.7/site-packages/Sphinx-1.3.1-py2.7.egg', '/home/j3ny/anaconda/lib/python2.7/site-packages/cryptography-0.9.1-py2.7-linux-x86_64.egg', '/home/j3ny/anaconda/lib/python2.7/site-packages/setuptools-17.1.1-py2.7.egg', '/home/j3ny/anaconda/lib/python2.7/site-packages/IPython/extensions']\n"
     ]
    }
   ],
   "source": [
    "import sys\n",
    "print(sys.path)"
   ]
  },
  {
   "cell_type": "raw",
   "metadata": {},
   "source": [
    "Format of datafile: json"
   ]
  },
  {
   "cell_type": "code",
   "execution_count": 3,
   "metadata": {
    "collapsed": false
   },
   "outputs": [],
   "source": [
    "def read_data(filename, short=False):\n",
    "    json_data = open(filename, 'r').read()\n",
    "    raw_data = json.loads(json_data)\n",
    "    seq = []\n",
    "    seq_id = []\n",
    "    energy = []\n",
    "    for k1, v1 in raw_data.iteritems():\n",
    "        if k1 == \"name\":\n",
    "            continue\n",
    "        stp_i = int(k1)\n",
    "        staple = v1\n",
    "        #print str(stp_i) + ' ' + v1['staple_sequence']\n",
    "        for k2, v2 in staple.iteritems():\n",
    "            if not k2.isdigit():\n",
    "                continue\n",
    "            arm_i = k2\n",
    "            arm = v2\n",
    "            if short and len(arm['sequence']) > 8:\n",
    "                continue\n",
    "            dG = arm['dG']\n",
    "            min_dG = float(arm['min_dG'])\n",
    "            seq.append(arm['sequence'])\n",
    "            seq_id.append('stp_' + str(stp_i) + '_' + str(arm_i))\n",
    "            local_min = []\n",
    "            for i in range(len(dG)-1):\n",
    "                if dG[i] < dG[i-1] and dG[i] <= dG[i+1]:\n",
    "                    local_min.append(float(dG[i]))\n",
    "            sorted_by_energy = sorted(local_min)\n",
    "            energy.append(numpy.array(sorted_by_energy))\n",
    "    return seq_id, seq, energy"
   ]
  },
  {
   "cell_type": "code",
   "execution_count": 4,
   "metadata": {
    "collapsed": false
   },
   "outputs": [],
   "source": [
    "def get_boltzmann_distribution(energy_by_arm):\n",
    "    R = 8.3144621  # gas constant\n",
    "    T = 293.15  # room temperature\n",
    "    factor = 4184.0  # joules_per_kcal\n",
    "    boltzmann_distribution = []\n",
    "    for dG in energy_by_arm:\n",
    "        ps = []\n",
    "        total = bigfloat.BigFloat(0)\n",
    "        for energy in dG:\n",
    "            p = bigfloat.exp((-energy*factor)/(R*T), bigfloat.precision(1000))\n",
    "            ps.append(p)\n",
    "            total = bigfloat.add(total, p)\n",
    "        normal_ps = []\n",
    "        for p in ps:\n",
    "            normal_ps.append(float(bigfloat.div(p,total)))\n",
    "        boltzmann_distribution.append(numpy.array(normal_ps))\n",
    "    return boltzmann_distribution\n",
    "    \n",
    "PATH = '/home/j3ny/repos/analysis/Analysis/thermodynamic_addressability/'\n",
    "#filename = \"DeBruijn_specific_hist.png\"\n",
    "\n",
    "def plot(data, output_file):\n",
    "\tsns.set(style=\"white\", palette=\"muted\")\n",
    "\tf, axes = plt.subplots(2, 2, figsize=(10, 10), sharex=True)\n",
    "\tsns.despine(left=True)\n",
    "\tb, g, r = sns.color_palette(\"muted\", 3)\n",
    "\tfor i, dist in enumerate(data):\n",
    "\t\tspecific = [p[0] for p in dist]\n",
    "\t\tunspecific = [sum(p[1:]) for p in dist]\n",
    "\t\t#sns.distplot(specific, kde=False, color=b, ax=axes[0])\n",
    "\t\t#sns.distplot(specific, hist=False, rug=True, color=r, ax=axes[0, 1])\n",
    "\t\t#sns.distplot(specific, hist=False, color=g, kde_kws={\"shade\": True}, ax=axes[1, 0])\n",
    "\t\tsns.distplot(specific, color=g, ax=axes[i,1])\n",
    "\t\tsns.distplot(unspecific, color=r, ax=axes[i,0])\n",
    "\tplt.setp(axes, yticks=[])\n",
    "\tplt.tight_layout()\n",
    "\tplt.savefig(PATH + output_file,format='png',dpi=600)"
   ]
  },
  {
   "cell_type": "code",
   "execution_count": 5,
   "metadata": {
    "collapsed": false
   },
   "outputs": [],
   "source": [
    "path = 'data/'\n",
    "filename_DB = 'DeBruijn_alpha.json'\n",
    "filename_pUC19 = 'pUC19_alpha.json'\n",
    "filename_M13 = 'M13_square.json'\n",
    "\n",
    "#ids, sequences, energies\n",
    "_, _, energies_DB = read_data(path + filename_DB)\n",
    "_, _, energies_pUC19 = read_data(path + filename_pUC19)\n",
    "_, _, energies_M13 = read_data(path + filename_M13)\n",
    "\n",
    "_, _, energies_DB_short = read_data(path + filename_DB, short=True)\n",
    "_, _, energies_pUC19_short = read_data(path + filename_pUC19, short=True)\n",
    "_, _, energies_M13_short = read_data(path + filename_M13, short=True)\n",
    "\n",
    "dist_DB = get_boltzmann_distribution(energies_DB)\n",
    "dist_PUC = get_boltzmann_distribution(energies_pUC19)\n",
    "dist_M13 = get_boltzmann_distribution(energies_M13)\n",
    "\n",
    "dist_DB_short = get_boltzmann_distribution(energies_DB_short)\n",
    "dist_PUC_short = get_boltzmann_distribution(energies_pUC19_short)\n",
    "dist_M13_short = get_boltzmann_distribution(energies_M13_short)"
   ]
  },
  {
   "cell_type": "code",
   "execution_count": 21,
   "metadata": {
    "collapsed": false
   },
   "outputs": [],
   "source": [
    "def normalise(dist):\n",
    "    num_bins = 20\n",
    "    hist = [0] * num_bins\n",
    "    for d in dist:\n",
    "        hist[int(d*num_bins)] += 1\n",
    "    normalised = [1.0*count/len(dist) for count in hist]\n",
    "    return normalised"
   ]
  },
  {
   "cell_type": "code",
   "execution_count": 56,
   "metadata": {
    "collapsed": false
   },
   "outputs": [
    {
     "name": "stdout",
     "output_type": "stream",
     "text": [
      "[0.0, 0.0, 0.0, 0.0, 0.0, 0.0, 0.0, 0.0, 0.0, 0.02040816326530612, 0.02040816326530612, 0.02040816326530612, 0.02040816326530612, 0.10204081632653061, 0.01020408163265306, 0.10204081632653061, 0.15306122448979592, 0.16326530612244897, 0.25510204081632654, 0.1326530612244898]\n"
     ]
    }
   ],
   "source": [
    "dist = [d[0] for d in dist_DB_short]\n",
    "normalised_dist = normalise(dist)\n",
    "print normalised_dist"
   ]
  },
  {
   "cell_type": "code",
   "execution_count": 27,
   "metadata": {
    "collapsed": false
   },
   "outputs": [
    {
     "name": "stdout",
     "output_type": "stream",
     "text": [
      "[0.0, 0.0, 0.0, 0.0, 0.0, 0.0, 0.0, 0.0, 0.0, 0.02040816326530612, 0.02040816326530612, 0.02040816326530612, 0.02040816326530612, 0.10204081632653061, 0.01020408163265306, 0.10204081632653061, 0.15306122448979592, 0.16326530612244897, 0.25510204081632654, 0.1326530612244898]\n"
     ]
    },
    {
     "data": {
      "image/png": "[encoded data removed]",
      "text/plain": [
       "<matplotlib.figure.Figure at 0x7fe492451b90>"
      ]
     },
     "metadata": {},
     "output_type": "display_data"
    }
   ],
   "source": [
    "dist = [d[0] for d in dist_DB_short]\n",
    "\n",
    "def to_percent(y, position):\n",
    "    # Ignore the passed in position. This has the effect of scaling the default\n",
    "    # tick locations.\n",
    "    s = str(int(y))\n",
    "\n",
    "    # The percent symbol needs escaping in latex\n",
    "    if matplotlib.rcParams['text.usetex'] == True:\n",
    "        return s + r'$\\%$'\n",
    "    else:\n",
    "        return s + '%'\n",
    "\n",
    "num_bins = 20\n",
    "# the histogram of the data\n",
    "n, bins, patches = plt.hist(dist, num_bins, normed=1, facecolor='green', alpha=0.75)\n",
    "\n",
    "#formatter = FuncFormatter(to_percent)\n",
    "#plt.gca().yaxis.set_major_formatter(formatter)\n",
    "\n",
    "#plt.plot(bins)\n",
    "#plt.xlabel('Probability')\n",
    "#plt.ylabel('Fraction of staples')\n",
    "#plt.title(r'De Bruijn: histogram of specific staple hybridistaion')\n",
    "\n",
    "# Make a normed histogram. It'll be multiplied by 100 later.\n",
    "#plt.hist(x, bins=10, normed=False)\n",
    "#plt.xlim(0,1)\n",
    "\n",
    "# Create the formatter using the function to_percent. This multiplies all the\n",
    "# default labels by 100, making them all percentages\n",
    "#formatter = FuncFormatter(to_percent)\n",
    "\n",
    "# Set the formatter\n",
    "#plt.gca().yaxis.set_major_formatter(formatter)\n",
    "#plt.ylim(0, 100)\n",
    "\n",
    "PATH = '/home/j3ny/repos/analysis/Analysis/thermodynamic_addressability/output/'\n",
    "output_file = 'DeBruijn.png'\n",
    "\n",
    "#plt.show()\n",
    "#plt.savefig(PATH + output_file,format='png',dpi=600)\n",
    "\n"
   ]
  }
 ],
 "metadata": {
  "kernelspec": {
   "display_name": "Python 2",
   "language": "python",
   "name": "python2"
  },
  "language_info": {
   "codemirror_mode": {
    "name": "ipython",
    "version": 2
   },
   "file_extension": ".py",
   "mimetype": "text/x-python",
   "name": "python",
   "nbconvert_exporter": "python",
   "pygments_lexer": "ipython2",
   "version": "2.7.10"
  }
 },
 "nbformat": 4,
 "nbformat_minor": 0
}
