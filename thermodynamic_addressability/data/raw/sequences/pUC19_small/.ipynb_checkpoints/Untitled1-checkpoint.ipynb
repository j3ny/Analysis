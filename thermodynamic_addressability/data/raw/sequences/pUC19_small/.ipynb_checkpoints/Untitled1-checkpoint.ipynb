{
 "metadata": {
  "name": "",
  "signature": "sha256:c76b65a6e25bd27520db6724f675fffba49f6fee33297f4eba6035c61daf2ceb"
 },
 "nbformat": 3,
 "nbformat_minor": 0,
 "worksheets": []
}